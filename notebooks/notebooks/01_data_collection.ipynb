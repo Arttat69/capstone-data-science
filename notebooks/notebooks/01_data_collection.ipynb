{
 "cells": [
  {
   "metadata": {},
   "cell_type": "markdown",
   "source": [
    "# Step 0: Project Overview\n",
    "__In this notebook, we collect raw data for our project:__\n",
    "- Commodity prices (gold, oil, wheat) via Yahoo Finance (yfinance).\n",
    "- Kaggle datasets: geopolitical risk index and global news.\n",
    "\n",
    "All raw files will be stored in the `data/` folder for consistency."
   ],
   "id": "6cd923e1d64c0d1e"
  },
  {
   "metadata": {},
   "cell_type": "code",
   "outputs": [],
   "execution_count": null,
   "source": [
    "# 01_data_collection\n",
    "Fetch commodity prices (gold, oil, wheat) and load Kaggle datasets (geopolitical risk, global news)"
   ],
   "id": "8fbf7ae9f1fc341e"
  },
  {
   "metadata": {},
   "cell_type": "markdown",
   "source": [
    "# Step 1: Install Dependencies (if missing)\n",
    "__We install required Python packages if not already available:__\n",
    "- `yfinance` for fetching financial data.\n",
    "- `kaggle` for downloading datasets from Kaggle.\n",
    "\n",
    "Uncomment and run the following lines only if packages are missing."
   ],
   "id": "6cfaba608ea76bf0"
  },
  {
   "metadata": {},
   "cell_type": "code",
   "outputs": [],
   "execution_count": null,
   "source": [
    "# If you don't have yfinance or kaggle installed, run these:\n",
    " !pip install yfinance kaggle\n"
   ],
   "id": "b80b1fe2130fdcf9"
  },
  {
   "metadata": {},
   "cell_type": "markdown",
   "source": [
    "# Step 2: Import Libraries and Set Paths\n",
    "__We import all the necessary libraries and configure global paths:__\n",
    "- `os` → file system operations.\n",
    "- `pandas` / `numpy` → data handling.\n",
    "- `yfinance` → commodity price data.\n",
    "- `datetime` → date management.\n",
    "\n",
    "We also define the root directory, create a `data/` folder if it doesn’t exist, and set our analysis date range."
   ],
   "id": "fc5234cac136c739"
  },
  {
   "metadata": {},
   "cell_type": "code",
   "outputs": [],
   "execution_count": null,
   "source": [
    "import os\n",
    "import pandas as pd\n",
    "import numpy as np\n",
    "import yfinance as yf\n",
    "from datetime import datetime\n",
    "\n",
    "# paths\n",
    "ROOT = os.path.abspath(os.path.join(os.getcwd(), \"..\"))  # if notebook lives in notebooks/\n",
    "DATA_DIR = os.path.join(ROOT, \"data\")\n",
    "os.makedirs(DATA_DIR, exist_ok=True)\n",
    "\n",
    "# choose date range\n",
    "START = \"2000-01-01\"\n",
    "END = None  # None -> yfinance takes up to today\n"
   ],
   "id": "1d979d0e139e450a"
  },
  {
   "metadata": {},
   "cell_type": "markdown",
   "source": [
    "# Step 3: Define Commodity Tickers and Fetch Function\n",
    "__We define the tickers for gold, WTI crude oil, and wheat futures.__\n",
    "- Each ticker corresponds to a Yahoo Finance symbol.\n",
    "- We then implement a helper function `fetch_save()` which:\n",
    "  1. Downloads the data from Yahoo Finance.\n",
    "  2. Adds daily returns and 5-day rolling volatility.\n",
    "  3. Saves the data as a CSV in the `data/` folder."
   ],
   "id": "70bdfc2fb8fd9bc3"
  },
  {
   "metadata": {
    "ExecuteTime": {
     "end_time": "2025-10-03T20:15:31.608172Z",
     "start_time": "2025-10-03T20:15:31.587265Z"
    }
   },
   "cell_type": "code",
   "source": [
    "tickers = {\n",
    "    \"Gold\": \"GC=F\",      # Gold futures\n",
    "    \"WTI\":  \"CL=F\",      # WTI crude oil future\n",
    "    \"Wheat\": \"ZW=F\"      # Wheat futures\n",
    "}\n",
    "def add_features(df, price_col=\"Adj Close\"):\n",
    "    df = df.copy()\n",
    "    df[\"Return\"] = df[price_col].pct_change()\n",
    "    df[\"MA_5\"] = df[price_col].rolling(5).mean()\n",
    "    df[\"Vol_5\"] = df[\"Return\"].rolling(5).std()\n",
    "    return df\n",
    "\n",
    "def fetch_save(ticker_symbol, shortname):\n",
    "    print(f\"Downloading {shortname} ({ticker_symbol}) ...\")\n",
    "    df = yf.download(ticker_symbol, start=START, end=END, progress=False, auto_adjust=True)\n",
    "\n",
    "    if df.empty:\n",
    "        print(\"Warning: empty dataframe for\", ticker_symbol)\n",
    "    else:\n",
    "        # Add features\n",
    "        df = add_features(df, \"Adj Close\")\n",
    "        df.reset_index(inplace=True)                 # Date as column\n",
    "        df.to_csv(os.path.join(DATA_DIR, f\"{shortname}.csv\"), index=False)\n",
    "    return df\n",
    "\n"
   ],
   "id": "5667f6f56214e1c5",
   "outputs": [],
   "execution_count": 86
  },
  {
   "metadata": {},
   "cell_type": "markdown",
   "source": [
    "# Step 4: Fetch and Save Commodity Data\n",
    "__We use the `fetch_save()` function to download and store data for:__\n",
    "- Gold futures\n",
    "- WTI crude oil futures\n",
    "- Wheat futures"
   ],
   "id": "eaa3a45516cb8754"
  },
  {
   "metadata": {},
   "cell_type": "code",
   "outputs": [],
   "execution_count": null,
   "source": [
    "# fetch\n",
    "df_gold = fetch_save(tickers[\"Gold\"], \"gold_futures\")\n",
    "df_wti  = fetch_save(tickers[\"WTI\"], \"wti_crude\")\n",
    "df_wheat = fetch_save(tickers[\"Wheat\"], \"wheat_futures\")"
   ],
   "id": "c6b082b7f7a25dcc"
  },
  {
   "metadata": {},
   "cell_type": "markdown",
   "source": [
    "# Step 5: Quick Data Inspection\n",
    "__We verify that the downloaded datasets contain rows and preview the first few entries.__\n"
   ],
   "id": "3737bb8f507846a2"
  },
  {
   "metadata": {},
   "cell_type": "code",
   "outputs": [],
   "execution_count": null,
   "source": [
    "for name, df in [(\"Gold\", df_gold), (\"WTI\", df_wti), (\"Wheat\", df_wheat)]:\n",
    "    print(name, \"rows:\", 0 if df is None else len(df))\n",
    "    display(df.head())\n"
   ],
   "id": "47b963fe278c02d8"
  },
  {
   "metadata": {},
   "cell_type": "markdown",
   "source": [
    "# Step 6: Download Kaggle Datasets\n",
    "__We now download external datasets from Kaggle for further analysis:__\n",
    "1. **Gold & Silver Price vs Geopolitical Risk Index**\n",
    "2. **Global News Dataset**\n",
    "3. **Gold Price Prediction (LSTM reference dataset)**\n",
    "\n",
    "⚠️ **Note:**\n",
    "- This requires you to have your Kaggle API key (`kaggle.json`) set up in `~/.kaggle/`.\n",
    "- These commands must be run in a notebook or shell with Kaggle configured."
   ],
   "id": "360666ba4560691c"
  },
  {
   "metadata": {},
   "cell_type": "code",
   "outputs": [],
   "execution_count": null,
   "source": [
    "import os\n",
    "\n",
    "# Make sure we have a \"data\" directory\n",
    "os.makedirs(\"../../data/data\", exist_ok=True)\n",
    "\n",
    "# 1. Gold & Silver Price vs Geopolitical Risk Index\n",
    "!kaggle datasets download -d shreyanshdangi/gold-silver-price-vs-geopolitical-risk-19852025 -p data --unzip\n",
    "\n",
    "# 2. Global News Dataset\n",
    "!kaggle datasets download -d everydaycodings/global-news-dataset -p data --unzip\n",
    "\n",
    "# 3. Gold Price Prediction (LSTM reference dataset)\n",
    "!kaggle kernels pull farzadnekouei/gold-price-prediction-lstm-96-accuracy -p data/lstm_reference\n",
    "\n"
   ],
   "id": "d790a38b671f830f"
  },
  {
   "metadata": {},
   "cell_type": "markdown",
   "source": [
    "# Step 7: Inspect Downloaded Files & Load External Datasets\n",
    "__We:__\n",
    "1. List the contents of the `data/` directory (to check Kaggle download results).\n",
    "2. Attempt to load:\n",
    "   - Geopolitical Risk (GPR) dataset\n",
    "   - Global News dataset\n",
    "\n",
    "⚠️ Note: Filenames may differ, so adapt accordingly."
   ],
   "id": "dce73371b5d60d2d"
  },
  {
   "metadata": {},
   "cell_type": "code",
   "outputs": [],
   "execution_count": null,
   "source": [
    "# list files so you can adapt filenames\n",
    "for f in sorted(os.listdir(DATA_DIR)):\n",
    "    print(f)\n",
    "\n",
    "# Reset DATA_DIR to \"data\" if needed (be careful not to overwrite!)\n",
    "DATA_DIR = \"data\"\n",
    "\n",
    "# Try loading datasets (update filenames if different)\n",
    "try:\n",
    "    gpr = pd.read_csv(os.path.join(DATA_DIR, \"Gold-Silver-GeopoliticalRisk_HistoricalData.csv\"))\n",
    "except FileNotFoundError:\n",
    "    print(\"⚠️ GPR dataset not found.\")\n",
    "    gpr = pd.DataFrame()\n",
    "\n",
    "try:\n",
    "    global_news = pd.read_csv(os.path.join(DATA_DIR, \"data.csv\"))\n",
    "except FileNotFoundError:\n",
    "    print(\"⚠️ Global News dataset not found.\")\n",
    "    global_news = pd.DataFrame()\n"
   ],
   "id": "3cdbad6bd8423e89"
  },
  {
   "metadata": {},
   "cell_type": "markdown",
   "source": [
    "# Step 8: Add Basic Features to Commodity Prices\n",
    "__We define a helper function `add_basic_features()` that:__\n",
    "- Parses the `Date` column\n",
    "- Ensures chronological order\n",
    "- Chooses the correct price column (`Adj Close` if available, otherwise `Close`)\n",
    "- Computes daily returns, 5-day moving average (MA_5), and 5-day rolling volatility (Vol_5)\n",
    "\n",
    "Then we apply it to Gold, WTI crude, and Wheat, and save the processed results to CSV.\n",
    "\n",
    "Feature Engineering for Commodity Prices\n",
    "__We:__\n",
    "1. Define `add_basic_features()` to compute:\n",
    "   - Returns (`pct_change`)\n",
    "   - 5-day moving average (`MA_5`)\n",
    "   - 5-day volatility (`Vol_5`)\n",
    "2. Apply it to Gold, WTI, and Wheat datasets.\n",
    "3. Save processed outputs as `*_processed.csv`."
   ],
   "id": "8fd80e63bd08ea8b"
  },
  {
   "metadata": {
    "ExecuteTime": {
     "end_time": "2025-10-03T21:00:44.299751Z",
     "start_time": "2025-10-03T21:00:43.670810Z"
    }
   },
   "cell_type": "code",
   "source": [
    "def add_basic_features(df):\n",
    "    df = df.copy()\n",
    "    df['Date'] = pd.to_datetime(df['Date'])\n",
    "    df.sort_values('Date', inplace=True)\n",
    "\n",
    "    # (fix) removed ineffective: df.set_index('Date', inplace=False)\n",
    "    price_col = 'Adj Close' if 'Adj Close' in df.columns else 'Close'\n",
    "    df[price_col] = df[price_col].astype(float)\n",
    "\n",
    "    df['Return'] = df[price_col].pct_change()\n",
    "    df['MA_5'] = df[price_col].rolling(window=5).mean()\n",
    "    df['Vol_5'] = df['Return'].rolling(window=5).std()\n",
    "    return df\n",
    "\n",
    "gold_feat = add_basic_features(df_gold) if not df_gold.empty else pd.DataFrame()\n",
    "wti_feat  = add_basic_features(df_wti) if not df_wti.empty else pd.DataFrame()\n",
    "wheat_feat= add_basic_features(df_wheat) if not df_wheat.empty else pd.DataFrame()\n",
    "\n",
    "# Save processed\n",
    "gold_feat.to_csv(os.path.join(DATA_DIR, \"gold_processed.csv\"), index=False)\n",
    "wti_feat.to_csv(os.path.join(DATA_DIR, \"wti_processed.csv\"), index=False)\n",
    "wheat_feat.to_csv(os.path.join(DATA_DIR, \"wheat_processed.csv\"), index=False)\n",
    "\n",
    "print(\"✅ Saved processed files to\", DATA_DIR)\n",
    "print(\"GPR preview:\" if not gpr.empty else \"⚠️ GPR empty\")\n",
    "print(gpr.head())\n",
    "\n"
   ],
   "id": "d684bd9c892b722c",
   "outputs": [
    {
     "name": "stdout",
     "output_type": "stream",
     "text": [
      "✅ Saved processed files to data\n",
      "GPR preview:\n",
      "        DATE  GOLD_PRICE  GOLD_OPEN  GOLD_HIGH  GOLD_LOW  GOLD_CHANGE_%  \\\n",
      "0 2025-09-10     3630.90    3633.61    3634.42   3620.90          -0.07   \n",
      "1 2025-09-09     3633.61    3637.10    3674.75   3625.33          -0.06   \n",
      "2 2025-09-08     3635.84    3586.82    3646.60   3579.67           1.24   \n",
      "3 2025-09-07     3591.19    3592.07    3596.56   3586.95           0.12   \n",
      "4 2025-09-05     3586.81    3547.00    3600.33   3540.05           1.15   \n",
      "\n",
      "   SILVER_PRICE  SILVER_OPEN  SILVER_HIGH  SILVER_LOW  SILVER_CHANGE_%  \\\n",
      "0         40.92        40.89        40.94       40.72             0.09   \n",
      "1         40.89        41.34        41.50       40.77            -1.13   \n",
      "2         41.36        41.01        41.68       40.51             1.20   \n",
      "3         40.86        41.00        41.01       40.76            -0.34   \n",
      "4         41.01        40.69        41.44       40.55             0.76   \n",
      "\n",
      "     GPRD  GPRD_ACT  GPRD_THREAT EVENT  \n",
      "0     NaN       NaN          NaN   NaN  \n",
      "1     NaN       NaN          NaN   NaN  \n",
      "2  117.26     97.42       146.26   NaN  \n",
      "3   83.51    111.00        92.59   NaN  \n",
      "4  166.42    110.61       224.05   NaN  \n"
     ]
    }
   ],
   "execution_count": 106
  },
  {
   "metadata": {},
   "cell_type": "markdown",
   "source": [
    "# Step 11: Quick Check of Saved Processed Files\n",
    "__We check if our processed CSVs were successfully created and stored in `data/`.__"
   ],
   "id": "5c4e9534e2d59c07"
  },
  {
   "metadata": {
    "ExecuteTime": {
     "end_time": "2025-10-03T21:00:54.447758Z",
     "start_time": "2025-10-03T21:00:54.424789Z"
    }
   },
   "cell_type": "code",
   "source": [
    "# quick check of saved files\n",
    "for fname in [\"gold_processed.csv\", \"wti_processed.csv\", \"wheat_processed.csv\"]:\n",
    "    print(fname, \"->\", os.path.exists(os.path.join(DATA_DIR,fname)))\n"
   ],
   "id": "b292813efcf22e21",
   "outputs": [
    {
     "name": "stdout",
     "output_type": "stream",
     "text": [
      "gold_processed.csv -> True\n",
      "wti_processed.csv -> True\n",
      "wheat_processed.csv -> True\n",
      "Price        Date       Close        High         Low        Open Volume  \\\n",
      "Ticker                   GC=F        GC=F        GC=F        GC=F   GC=F   \n",
      "0      2000-08-30  273.899994  273.899994  273.899994  273.899994      0   \n",
      "1      2000-08-31  278.299988  278.299988  274.799988  274.799988      0   \n",
      "2      2000-09-01  277.000000  277.000000  277.000000  277.000000      0   \n",
      "3      2000-09-05  275.799988  275.799988  275.799988  275.799988      2   \n",
      "4      2000-09-06  274.200012  274.200012  274.200012  274.200012      0   \n",
      "\n",
      "Price  Return Vol_5        MA_5  \n",
      "Ticker                           \n",
      "0         NaN   NaN         NaN  \n",
      "1         NaN   NaN         NaN  \n",
      "2         NaN   NaN         NaN  \n",
      "3         NaN   NaN         NaN  \n",
      "4         NaN   NaN  275.839996  \n"
     ]
    }
   ],
   "execution_count": 107
  },
  {
   "metadata": {},
   "cell_type": "markdown",
   "source": [
    "# Step 12: Save Notebook & Commit to Git\n",
    "__Now that we have processed datasets and a working pipeline, we commit our notebook + CSV files to Git for version control.__\n",
    "\n",
    "⚠️ Run these commands in the **terminal**, not inside the notebook."
   ],
   "id": "dc384c0d82538d50"
  },
  {
   "metadata": {},
   "cell_type": "code",
   "outputs": [],
   "execution_count": null,
   "source": [
    "git add data/*.csv notebooks/01_data_collection.ipynb\n",
    "git commit -m \"Add data collection notebook + initial processed commodity files\"\n",
    "git push origin main\n"
   ],
   "id": "a1ffe62424f137e0"
  },
  {
   "metadata": {},
   "cell_type": "markdown",
   "source": [
    "# Step 17: Load Kaggle Datasets into DataFrames\n",
    "__We:__\n",
    "1. List available files in `data/` to adapt filenames if needed.\n",
    "2. Load **Geopolitical Risk Index** and **Global News** datasets.\n",
    "3. Provide fallback placeholders (`None`) if datasets are missing."
   ],
   "id": "be453b3926b38e17"
  },
  {
   "metadata": {
    "ExecuteTime": {
     "end_time": "2025-09-26T20:52:57.890559Z",
     "start_time": "2025-09-26T20:52:46.856226Z"
    }
   },
   "cell_type": "code",
   "source": [
    "# list files so you can adapt filenames\n",
    "for f in sorted(os.listdir(DATA_DIR)):\n",
    "    print(f)\n",
    "\n",
    "DATA_DIR = \"data\"\n",
    "\n",
    "# Try loading datasets\n",
    "gpr_path = os.path.join(DATA_DIR, \"Gold-Silver-GeopoliticalRisk_HistoricalData.csv\")\n",
    "news_path = os.path.join(DATA_DIR, \"data.csv\")\n",
    "\n",
    "gpr = pd.read_csv(gpr_path) if os.path.exists(gpr_path) else None\n",
    "global_news = pd.read_csv(news_path) if os.path.exists(news_path) else None"
   ],
   "id": "21f41d6c9774af4d",
   "outputs": [
    {
     "name": "stdout",
     "output_type": "stream",
     "text": [
      "All_Historical_Data_Separately\n",
      "Gold-Silver-GeopoliticalRisk_HistoricalData.csv\n",
      "data.csv\n",
      "gold_futures.csv\n",
      "gold_processed.csv\n",
      "lstm_reference\n",
      "rating.csv\n",
      "raw-data.csv\n",
      "wheat_futures.csv\n",
      "wheat_processed.csv\n",
      "wti_crude.csv\n",
      "wti_processed.csv\n"
     ]
    }
   ],
   "execution_count": 55
  },
  {
   "metadata": {
    "ExecuteTime": {
     "end_time": "2025-10-03T21:03:40.638254Z",
     "start_time": "2025-10-03T21:03:40.622172Z"
    }
   },
   "cell_type": "code",
   "source": [
    "print(gold_feat.index)\n",
    "print(gold_feat.columns)\n",
    "print(gold_feat['Date'].dtype)\n",
    "print(gpr_daily['DATE'].dtype)"
   ],
   "id": "136921218a9cc074",
   "outputs": [
    {
     "name": "stdout",
     "output_type": "stream",
     "text": [
      "RangeIndex(start=0, stop=6288, step=1)\n",
      "MultiIndex([(  'Date',     ''),\n",
      "            ( 'Close', 'GC=F'),\n",
      "            (  'High', 'GC=F'),\n",
      "            (   'Low', 'GC=F'),\n",
      "            (  'Open', 'GC=F'),\n",
      "            ('Volume', 'GC=F'),\n",
      "            ('Return',     ''),\n",
      "            ( 'Vol_5',     ''),\n",
      "            (  'MA_5',     '')],\n",
      "           names=['Price', 'Ticker'])\n",
      "datetime64[ns]\n",
      "datetime64[ns]\n"
     ]
    }
   ],
   "execution_count": 112
  },
  {
   "metadata": {},
   "cell_type": "markdown",
   "source": [
    "# Step 19: Prepare GPR dataset\n",
    "__We:__\n",
    "Convert GPR `DATE` column to datetime and resample daily.\n"
   ],
   "id": "d0725d2f84696d79"
  },
  {
   "metadata": {
    "ExecuteTime": {
     "end_time": "2025-10-03T20:53:42.551664Z",
     "start_time": "2025-10-03T20:53:42.462365Z"
    }
   },
   "cell_type": "code",
   "source": [
    "# --- Prepare GPR data ---\n",
    "gpr['DATE'] = pd.to_datetime(gpr['DATE'])\n",
    "gpr_daily = gpr.set_index('DATE').resample('D').ffill().reset_index()\n",
    "# Keep only relevant columns\n",
    "gpr_daily = gpr_daily[['DATE', 'GPRD', 'GPRD_THREAT', 'EVENT']]\n",
    "print(\"GPR prepared shape:\", gpr_daily.shape)\n",
    "print(gpr_daily.head())\n",
    "\n",
    "def prepare_features(df, price_col=\"Adj_Close\", name=\"Commodity\"):\n",
    "    df = df.copy()\n",
    "    df[\"Return\"] = df[price_col].pct_change()\n",
    "    df[\"MA_5\"] = df[price_col].rolling(5).mean()\n",
    "    df[\"Vol_5\"] = df[\"Return\"].rolling(5).std()\n",
    "    df = df.dropna(subset=[price_col, \"Return\", \"MA_5\", \"Vol_5\"]).reset_index(drop=True)\n",
    "    print(f\"{name} features prepared:\", df.shape)\n",
    "    return df\n",
    "\n",
    "# def prepare_feat(df, name):\n",
    "#     \"\"\"Make sure features exist and drop NaN rows caused by pct_change/rolling.\"\"\"\n",
    "#     df = flatten_columns(df)\n",
    "#     df = safe_reset(df)# Find best matches\n",
    "#     possible_cols = df.columns.tolist()\n",
    "#\n",
    "#     date_col = 'Date' if 'Date' in possible_cols else df.columns[0]\n",
    "#     adj_col = [c for c in possible_cols if 'Adj' in c or 'Close' in c][0]\n",
    "#     return_col = [c for c in possible_cols if 'Return' in c][0]\n",
    "#     ma_col = [c for c in possible_cols if 'MA' in c][0]\n",
    "#     vol_col = [c for c in possible_cols if 'Vol' in c][0]\n",
    "#\n",
    "#     keep_cols = [date_col, adj_col, return_col, ma_col, vol_col]\n",
    "#     df = df[keep_cols].dropna().reset_index(drop=True)\n",
    "#\n",
    "#     # Rename columns for consistency\n",
    "#     df.columns = ['Date', 'Adj_Close', 'Return', 'MA_5', 'Vol_5']\n",
    "#\n",
    "#     print(f\"{name} after feature prep:\", df.shape)\n",
    "#     return df\n",
    "\n",
    "gold_feat = prepare_features(gold_feat, price_col=\"Adj_Close\", name=\"Gold\")\n",
    "\n",
    "wti_feat = prepare_features(wti_feat, price_col=\"Adj_Close\", name=\"WTI\")\n",
    "\n",
    "wheat_feat = prepare_features(wheat_feat, price_col=\"Adj_Close\", name=\"Wheat\")\n"
   ],
   "id": "b5e1fb3eed3958f3",
   "outputs": [
    {
     "name": "stdout",
     "output_type": "stream",
     "text": [
      "GPR prepared shape: (14862, 4)\n",
      "        DATE    GPRD  GPRD_THREAT EVENT\n",
      "0 1985-01-02  115.68        87.44   NaN\n",
      "1 1985-01-03   97.43        29.46   NaN\n",
      "2 1985-01-04  157.37       157.03   NaN\n",
      "3 1985-01-05  157.37       157.03   NaN\n",
      "4 1985-01-06  157.37       157.03   NaN\n",
      "Gold features prepared: (0, 5)\n",
      "WTI features prepared: (0, 5)\n",
      "Wheat features prepared: (0, 5)\n"
     ]
    }
   ],
   "execution_count": 100
  },
  {
   "metadata": {},
   "cell_type": "markdown",
   "source": [
    "# Step 20: Merge All Commodities with Geopolitical Risk Index\n",
    "__We:__\n",
    "1. Define utility functions:\n",
    "   - `flatten_columns()` → handle MultiIndex columns.\n",
    "   - `safe_reset()` → reset index if needed.\n",
    "2. Apply preprocessing to Gold, WTI, and Wheat.\n",
    "3. Merge each with daily GPR data.\n",
    "4. Display merged dataset previews."
   ],
   "id": "63e3dd8e2a49b6a7"
  },
  {
   "metadata": {
    "ExecuteTime": {
     "end_time": "2025-10-03T21:08:17.052110Z",
     "start_time": "2025-10-03T21:08:16.948810Z"
    }
   },
   "cell_type": "code",
   "source": [
    "def flatten_columns(df):\n",
    "    \"\"\"Flatten MultiIndex columns if necessary.\"\"\"\n",
    "    if isinstance(df.columns, pd.MultiIndex):\n",
    "        df.columns = [\n",
    "            '_'.join([str(c) for c in col if c]).strip()\n",
    "            for col in df.columns.values\n",
    "        ]\n",
    "    if df.index.name == 'Date':\n",
    "        return df.reset_index()\n",
    "    return df\n",
    "\n",
    "\n",
    "\n",
    "# --- Gold ---\n",
    "gold_feat = flatten_columns(gold_feat)\n",
    "merged_gold = pd.merge(\n",
    "    gold_feat,\n",
    "    gpr_daily,\n",
    "    left_on='Date',\n",
    "    right_on='DATE',\n",
    "    how='left'\n",
    ")\n",
    "\n",
    "# --- Oil (WTI) ---\n",
    "wti_feat = flatten_columns(wti_feat)\n",
    "merged_wti = pd.merge(\n",
    "    wti_feat,\n",
    "    gpr_daily,\n",
    "    left_on='Date',\n",
    "    right_on='DATE',\n",
    "    how='left'\n",
    ")\n",
    "\n",
    "# --- Wheat ---\n",
    "wheat_feat = flatten_columns(wheat_feat)\n",
    "merged_wheat = pd.merge(\n",
    "    wheat_feat,\n",
    "    gpr_daily,\n",
    "    left_on='Date',\n",
    "    right_on='DATE',\n",
    "    how='left'\n",
    ")\n",
    "\n",
    "# --- Quick checks ---\n",
    "print(\"Gold merged shape:\", merged_gold.shape)\n",
    "print(\"Oil merged shape:\", merged_wti.shape)\n",
    "print(\"Wheat merged shape:\", merged_wheat.shape)\n",
    "\n",
    "display(merged_gold.head())\n",
    "display(merged_wti.head())\n",
    "display(merged_wheat.head())\n"
   ],
   "id": "4ace158a23b0df7d",
   "outputs": [
    {
     "name": "stdout",
     "output_type": "stream",
     "text": [
      "Gold merged shape: (6288, 13)\n",
      "Oil merged shape: (6297, 13)\n",
      "Wheat merged shape: (6311, 13)\n"
     ]
    },
    {
     "data": {
      "text/plain": [
       "        Date  Close_GC=F   High_GC=F    Low_GC=F   Open_GC=F  Volume_GC=F  \\\n",
       "0 2000-08-30  273.899994  273.899994  273.899994  273.899994            0   \n",
       "1 2000-08-31  278.299988  278.299988  274.799988  274.799988            0   \n",
       "2 2000-09-01  277.000000  277.000000  277.000000  277.000000            0   \n",
       "3 2000-09-05  275.799988  275.799988  275.799988  275.799988            2   \n",
       "4 2000-09-06  274.200012  274.200012  274.200012  274.200012            0   \n",
       "\n",
       "   Return  Vol_5        MA_5       DATE   GPRD  GPRD_THREAT EVENT  \n",
       "0     NaN    NaN         NaN 2000-08-30  58.01        60.93   NaN  \n",
       "1     NaN    NaN         NaN 2000-08-31  42.07        32.65   NaN  \n",
       "2     NaN    NaN         NaN 2000-09-01  45.34        55.29   NaN  \n",
       "3     NaN    NaN         NaN 2000-09-05  52.97        29.37   NaN  \n",
       "4     NaN    NaN  275.839996 2000-09-06  54.75        72.85   NaN  "
      ],
      "text/html": [
       "<div>\n",
       "<style scoped>\n",
       "    .dataframe tbody tr th:only-of-type {\n",
       "        vertical-align: middle;\n",
       "    }\n",
       "\n",
       "    .dataframe tbody tr th {\n",
       "        vertical-align: top;\n",
       "    }\n",
       "\n",
       "    .dataframe thead th {\n",
       "        text-align: right;\n",
       "    }\n",
       "</style>\n",
       "<table border=\"1\" class=\"dataframe\">\n",
       "  <thead>\n",
       "    <tr style=\"text-align: right;\">\n",
       "      <th></th>\n",
       "      <th>Date</th>\n",
       "      <th>Close_GC=F</th>\n",
       "      <th>High_GC=F</th>\n",
       "      <th>Low_GC=F</th>\n",
       "      <th>Open_GC=F</th>\n",
       "      <th>Volume_GC=F</th>\n",
       "      <th>Return</th>\n",
       "      <th>Vol_5</th>\n",
       "      <th>MA_5</th>\n",
       "      <th>DATE</th>\n",
       "      <th>GPRD</th>\n",
       "      <th>GPRD_THREAT</th>\n",
       "      <th>EVENT</th>\n",
       "    </tr>\n",
       "  </thead>\n",
       "  <tbody>\n",
       "    <tr>\n",
       "      <th>0</th>\n",
       "      <td>2000-08-30</td>\n",
       "      <td>273.899994</td>\n",
       "      <td>273.899994</td>\n",
       "      <td>273.899994</td>\n",
       "      <td>273.899994</td>\n",
       "      <td>0</td>\n",
       "      <td>NaN</td>\n",
       "      <td>NaN</td>\n",
       "      <td>NaN</td>\n",
       "      <td>2000-08-30</td>\n",
       "      <td>58.01</td>\n",
       "      <td>60.93</td>\n",
       "      <td>NaN</td>\n",
       "    </tr>\n",
       "    <tr>\n",
       "      <th>1</th>\n",
       "      <td>2000-08-31</td>\n",
       "      <td>278.299988</td>\n",
       "      <td>278.299988</td>\n",
       "      <td>274.799988</td>\n",
       "      <td>274.799988</td>\n",
       "      <td>0</td>\n",
       "      <td>NaN</td>\n",
       "      <td>NaN</td>\n",
       "      <td>NaN</td>\n",
       "      <td>2000-08-31</td>\n",
       "      <td>42.07</td>\n",
       "      <td>32.65</td>\n",
       "      <td>NaN</td>\n",
       "    </tr>\n",
       "    <tr>\n",
       "      <th>2</th>\n",
       "      <td>2000-09-01</td>\n",
       "      <td>277.000000</td>\n",
       "      <td>277.000000</td>\n",
       "      <td>277.000000</td>\n",
       "      <td>277.000000</td>\n",
       "      <td>0</td>\n",
       "      <td>NaN</td>\n",
       "      <td>NaN</td>\n",
       "      <td>NaN</td>\n",
       "      <td>2000-09-01</td>\n",
       "      <td>45.34</td>\n",
       "      <td>55.29</td>\n",
       "      <td>NaN</td>\n",
       "    </tr>\n",
       "    <tr>\n",
       "      <th>3</th>\n",
       "      <td>2000-09-05</td>\n",
       "      <td>275.799988</td>\n",
       "      <td>275.799988</td>\n",
       "      <td>275.799988</td>\n",
       "      <td>275.799988</td>\n",
       "      <td>2</td>\n",
       "      <td>NaN</td>\n",
       "      <td>NaN</td>\n",
       "      <td>NaN</td>\n",
       "      <td>2000-09-05</td>\n",
       "      <td>52.97</td>\n",
       "      <td>29.37</td>\n",
       "      <td>NaN</td>\n",
       "    </tr>\n",
       "    <tr>\n",
       "      <th>4</th>\n",
       "      <td>2000-09-06</td>\n",
       "      <td>274.200012</td>\n",
       "      <td>274.200012</td>\n",
       "      <td>274.200012</td>\n",
       "      <td>274.200012</td>\n",
       "      <td>0</td>\n",
       "      <td>NaN</td>\n",
       "      <td>NaN</td>\n",
       "      <td>275.839996</td>\n",
       "      <td>2000-09-06</td>\n",
       "      <td>54.75</td>\n",
       "      <td>72.85</td>\n",
       "      <td>NaN</td>\n",
       "    </tr>\n",
       "  </tbody>\n",
       "</table>\n",
       "</div>"
      ]
     },
     "metadata": {},
     "output_type": "display_data"
    },
    {
     "data": {
      "text/plain": [
       "        Date  Close_CL=F  High_CL=F   Low_CL=F  Open_CL=F  Volume_CL=F  \\\n",
       "0 2000-08-23   32.049999  32.799999  31.950001  31.950001        79385   \n",
       "1 2000-08-24   31.629999  32.240002  31.400000  31.900000        72978   \n",
       "2 2000-08-25   32.049999  32.099998  31.320000  31.700001        44601   \n",
       "3 2000-08-28   32.869999  32.919998  31.860001  32.040001        46770   \n",
       "4 2000-08-29   32.720001  33.029999  32.560001  32.820000        49131   \n",
       "\n",
       "   Return  Vol_5    MA_5       DATE    GPRD  GPRD_THREAT EVENT  \n",
       "0     NaN    NaN     NaN 2000-08-23   45.92        56.01   NaN  \n",
       "1     NaN    NaN     NaN 2000-08-24   45.18        46.97   NaN  \n",
       "2     NaN    NaN     NaN 2000-08-25   50.92        54.79   NaN  \n",
       "3     NaN    NaN     NaN 2000-08-28  100.50        93.60   NaN  \n",
       "4     NaN    NaN  32.264 2000-08-29   50.46        65.94   NaN  "
      ],
      "text/html": [
       "<div>\n",
       "<style scoped>\n",
       "    .dataframe tbody tr th:only-of-type {\n",
       "        vertical-align: middle;\n",
       "    }\n",
       "\n",
       "    .dataframe tbody tr th {\n",
       "        vertical-align: top;\n",
       "    }\n",
       "\n",
       "    .dataframe thead th {\n",
       "        text-align: right;\n",
       "    }\n",
       "</style>\n",
       "<table border=\"1\" class=\"dataframe\">\n",
       "  <thead>\n",
       "    <tr style=\"text-align: right;\">\n",
       "      <th></th>\n",
       "      <th>Date</th>\n",
       "      <th>Close_CL=F</th>\n",
       "      <th>High_CL=F</th>\n",
       "      <th>Low_CL=F</th>\n",
       "      <th>Open_CL=F</th>\n",
       "      <th>Volume_CL=F</th>\n",
       "      <th>Return</th>\n",
       "      <th>Vol_5</th>\n",
       "      <th>MA_5</th>\n",
       "      <th>DATE</th>\n",
       "      <th>GPRD</th>\n",
       "      <th>GPRD_THREAT</th>\n",
       "      <th>EVENT</th>\n",
       "    </tr>\n",
       "  </thead>\n",
       "  <tbody>\n",
       "    <tr>\n",
       "      <th>0</th>\n",
       "      <td>2000-08-23</td>\n",
       "      <td>32.049999</td>\n",
       "      <td>32.799999</td>\n",
       "      <td>31.950001</td>\n",
       "      <td>31.950001</td>\n",
       "      <td>79385</td>\n",
       "      <td>NaN</td>\n",
       "      <td>NaN</td>\n",
       "      <td>NaN</td>\n",
       "      <td>2000-08-23</td>\n",
       "      <td>45.92</td>\n",
       "      <td>56.01</td>\n",
       "      <td>NaN</td>\n",
       "    </tr>\n",
       "    <tr>\n",
       "      <th>1</th>\n",
       "      <td>2000-08-24</td>\n",
       "      <td>31.629999</td>\n",
       "      <td>32.240002</td>\n",
       "      <td>31.400000</td>\n",
       "      <td>31.900000</td>\n",
       "      <td>72978</td>\n",
       "      <td>NaN</td>\n",
       "      <td>NaN</td>\n",
       "      <td>NaN</td>\n",
       "      <td>2000-08-24</td>\n",
       "      <td>45.18</td>\n",
       "      <td>46.97</td>\n",
       "      <td>NaN</td>\n",
       "    </tr>\n",
       "    <tr>\n",
       "      <th>2</th>\n",
       "      <td>2000-08-25</td>\n",
       "      <td>32.049999</td>\n",
       "      <td>32.099998</td>\n",
       "      <td>31.320000</td>\n",
       "      <td>31.700001</td>\n",
       "      <td>44601</td>\n",
       "      <td>NaN</td>\n",
       "      <td>NaN</td>\n",
       "      <td>NaN</td>\n",
       "      <td>2000-08-25</td>\n",
       "      <td>50.92</td>\n",
       "      <td>54.79</td>\n",
       "      <td>NaN</td>\n",
       "    </tr>\n",
       "    <tr>\n",
       "      <th>3</th>\n",
       "      <td>2000-08-28</td>\n",
       "      <td>32.869999</td>\n",
       "      <td>32.919998</td>\n",
       "      <td>31.860001</td>\n",
       "      <td>32.040001</td>\n",
       "      <td>46770</td>\n",
       "      <td>NaN</td>\n",
       "      <td>NaN</td>\n",
       "      <td>NaN</td>\n",
       "      <td>2000-08-28</td>\n",
       "      <td>100.50</td>\n",
       "      <td>93.60</td>\n",
       "      <td>NaN</td>\n",
       "    </tr>\n",
       "    <tr>\n",
       "      <th>4</th>\n",
       "      <td>2000-08-29</td>\n",
       "      <td>32.720001</td>\n",
       "      <td>33.029999</td>\n",
       "      <td>32.560001</td>\n",
       "      <td>32.820000</td>\n",
       "      <td>49131</td>\n",
       "      <td>NaN</td>\n",
       "      <td>NaN</td>\n",
       "      <td>32.264</td>\n",
       "      <td>2000-08-29</td>\n",
       "      <td>50.46</td>\n",
       "      <td>65.94</td>\n",
       "      <td>NaN</td>\n",
       "    </tr>\n",
       "  </tbody>\n",
       "</table>\n",
       "</div>"
      ]
     },
     "metadata": {},
     "output_type": "display_data"
    },
    {
     "data": {
      "text/plain": [
       "        Date  Close_ZW=F  High_ZW=F  Low_ZW=F  Open_ZW=F  Volume_ZW=F  Return  \\\n",
       "0 2000-07-17      244.00      248.0    243.75     248.00         7233     NaN   \n",
       "1 2000-07-18      241.25      247.5    241.00     244.25         6523     NaN   \n",
       "2 2000-07-19      245.00      246.0    239.00     241.25         7136     NaN   \n",
       "3 2000-07-20      247.00      247.5    244.00     244.00         3792     NaN   \n",
       "4 2000-07-21      247.25      248.5    246.50     247.00         4380     NaN   \n",
       "\n",
       "   Vol_5   MA_5       DATE   GPRD  GPRD_THREAT EVENT  \n",
       "0    NaN    NaN 2000-07-17  56.75        53.08   NaN  \n",
       "1    NaN    NaN 2000-07-18  31.97        31.91   NaN  \n",
       "2    NaN    NaN 2000-07-19  63.04        95.31   NaN  \n",
       "3    NaN    NaN 2000-07-20  65.57        91.60   NaN  \n",
       "4    NaN  244.9 2000-07-21  22.83        28.47   NaN  "
      ],
      "text/html": [
       "<div>\n",
       "<style scoped>\n",
       "    .dataframe tbody tr th:only-of-type {\n",
       "        vertical-align: middle;\n",
       "    }\n",
       "\n",
       "    .dataframe tbody tr th {\n",
       "        vertical-align: top;\n",
       "    }\n",
       "\n",
       "    .dataframe thead th {\n",
       "        text-align: right;\n",
       "    }\n",
       "</style>\n",
       "<table border=\"1\" class=\"dataframe\">\n",
       "  <thead>\n",
       "    <tr style=\"text-align: right;\">\n",
       "      <th></th>\n",
       "      <th>Date</th>\n",
       "      <th>Close_ZW=F</th>\n",
       "      <th>High_ZW=F</th>\n",
       "      <th>Low_ZW=F</th>\n",
       "      <th>Open_ZW=F</th>\n",
       "      <th>Volume_ZW=F</th>\n",
       "      <th>Return</th>\n",
       "      <th>Vol_5</th>\n",
       "      <th>MA_5</th>\n",
       "      <th>DATE</th>\n",
       "      <th>GPRD</th>\n",
       "      <th>GPRD_THREAT</th>\n",
       "      <th>EVENT</th>\n",
       "    </tr>\n",
       "  </thead>\n",
       "  <tbody>\n",
       "    <tr>\n",
       "      <th>0</th>\n",
       "      <td>2000-07-17</td>\n",
       "      <td>244.00</td>\n",
       "      <td>248.0</td>\n",
       "      <td>243.75</td>\n",
       "      <td>248.00</td>\n",
       "      <td>7233</td>\n",
       "      <td>NaN</td>\n",
       "      <td>NaN</td>\n",
       "      <td>NaN</td>\n",
       "      <td>2000-07-17</td>\n",
       "      <td>56.75</td>\n",
       "      <td>53.08</td>\n",
       "      <td>NaN</td>\n",
       "    </tr>\n",
       "    <tr>\n",
       "      <th>1</th>\n",
       "      <td>2000-07-18</td>\n",
       "      <td>241.25</td>\n",
       "      <td>247.5</td>\n",
       "      <td>241.00</td>\n",
       "      <td>244.25</td>\n",
       "      <td>6523</td>\n",
       "      <td>NaN</td>\n",
       "      <td>NaN</td>\n",
       "      <td>NaN</td>\n",
       "      <td>2000-07-18</td>\n",
       "      <td>31.97</td>\n",
       "      <td>31.91</td>\n",
       "      <td>NaN</td>\n",
       "    </tr>\n",
       "    <tr>\n",
       "      <th>2</th>\n",
       "      <td>2000-07-19</td>\n",
       "      <td>245.00</td>\n",
       "      <td>246.0</td>\n",
       "      <td>239.00</td>\n",
       "      <td>241.25</td>\n",
       "      <td>7136</td>\n",
       "      <td>NaN</td>\n",
       "      <td>NaN</td>\n",
       "      <td>NaN</td>\n",
       "      <td>2000-07-19</td>\n",
       "      <td>63.04</td>\n",
       "      <td>95.31</td>\n",
       "      <td>NaN</td>\n",
       "    </tr>\n",
       "    <tr>\n",
       "      <th>3</th>\n",
       "      <td>2000-07-20</td>\n",
       "      <td>247.00</td>\n",
       "      <td>247.5</td>\n",
       "      <td>244.00</td>\n",
       "      <td>244.00</td>\n",
       "      <td>3792</td>\n",
       "      <td>NaN</td>\n",
       "      <td>NaN</td>\n",
       "      <td>NaN</td>\n",
       "      <td>2000-07-20</td>\n",
       "      <td>65.57</td>\n",
       "      <td>91.60</td>\n",
       "      <td>NaN</td>\n",
       "    </tr>\n",
       "    <tr>\n",
       "      <th>4</th>\n",
       "      <td>2000-07-21</td>\n",
       "      <td>247.25</td>\n",
       "      <td>248.5</td>\n",
       "      <td>246.50</td>\n",
       "      <td>247.00</td>\n",
       "      <td>4380</td>\n",
       "      <td>NaN</td>\n",
       "      <td>NaN</td>\n",
       "      <td>244.9</td>\n",
       "      <td>2000-07-21</td>\n",
       "      <td>22.83</td>\n",
       "      <td>28.47</td>\n",
       "      <td>NaN</td>\n",
       "    </tr>\n",
       "  </tbody>\n",
       "</table>\n",
       "</div>"
      ]
     },
     "metadata": {},
     "output_type": "display_data"
    }
   ],
   "execution_count": 114
  },
  {
   "metadata": {},
   "cell_type": "markdown",
   "source": "# Step 21 — Save merged datasets & Quick check of saved files (Notebook)",
   "id": "3af3187ac1f1e3c4"
  },
  {
   "metadata": {
    "ExecuteTime": {
     "end_time": "2025-10-03T21:09:21.045990Z",
     "start_time": "2025-10-03T21:09:20.595637Z"
    }
   },
   "cell_type": "code",
   "source": [
    "merged_gold.to_csv(os.path.join(DATA_DIR, \"gold_merged.csv\"), index=False)\n",
    "merged_wti.to_csv(os.path.join(DATA_DIR, \"wti_merged.csv\"), index=False)\n",
    "merged_wheat.to_csv(os.path.join(DATA_DIR, \"wheat_merged.csv\"), index=False)\n",
    "\n",
    "print(\"Merged datasets saved in:\", DATA_DIR)\n",
    "# Quick check of saved processed files\n",
    "for fname in [\"gold_processed.csv\", \"wti_processed.csv\", \"wheat_processed.csv\"]:\n",
    "    exists = os.path.exists(os.path.join(DATA_DIR, fname))\n",
    "    print(f\"{fname} -> {'✅ exists' if exists else '❌ missing'}\")"
   ],
   "id": "4b62676d8e32ec58",
   "outputs": [
    {
     "name": "stdout",
     "output_type": "stream",
     "text": [
      "Merged datasets saved in: data\n",
      "gold_processed.csv -> ✅ exists\n",
      "wti_processed.csv -> ✅ exists\n",
      "wheat_processed.csv -> ✅ exists\n"
     ]
    }
   ],
   "execution_count": 115
  },
  {
   "metadata": {},
   "cell_type": "markdown",
   "source": "# Step 22 — Save to Git (Terminal, not notebook)",
   "id": "92b6e63f0b530899"
  },
  {
   "metadata": {
    "ExecuteTime": {
     "end_time": "2025-09-26T21:22:15.255539Z",
     "start_time": "2025-09-26T21:22:15.206139Z"
    }
   },
   "cell_type": "code",
   "source": [
    "git add notebooks/notebooks/01_data_collection.ipynb notebooks/notebooks/data/*.csv .gitignore\n",
    "git commit -m \"Add data collection notebook + initial processed commodity files\"\n",
    "git push origin main\n"
   ],
   "id": "ca7f092d9c84c740",
   "outputs": [
    {
     "ename": "SyntaxError",
     "evalue": "invalid decimal literal (495343877.py, line 1)",
     "output_type": "error",
     "traceback": [
      "  \u001B[36mCell\u001B[39m\u001B[36m \u001B[39m\u001B[32mIn[68]\u001B[39m\u001B[32m, line 1\u001B[39m\n\u001B[31m    \u001B[39m\u001B[31mgit add notebooks/notebooks/01_data_collection.ipynb notebooks/notebooks/data/*.csv .gitignore\u001B[39m\n                                  ^\n\u001B[31mSyntaxError\u001B[39m\u001B[31m:\u001B[39m invalid decimal literal\n"
     ]
    }
   ],
   "execution_count": 68
  },
  {
   "metadata": {},
   "cell_type": "code",
   "outputs": [],
   "execution_count": null,
   "source": "",
   "id": "20a6955f2294db8b"
  }
 ],
 "metadata": {
  "kernelspec": {
   "display_name": "Python 3",
   "language": "python",
   "name": "python3"
  },
  "language_info": {
   "codemirror_mode": {
    "name": "ipython",
    "version": 2
   },
   "file_extension": ".py",
   "mimetype": "text/x-python",
   "name": "python",
   "nbconvert_exporter": "python",
   "pygments_lexer": "ipython2",
   "version": "2.7.6"
  }
 },
 "nbformat": 4,
 "nbformat_minor": 5
}
